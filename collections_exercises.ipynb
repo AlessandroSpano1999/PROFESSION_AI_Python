{
 "cells": [
  {
   "cell_type": "markdown",
   "metadata": {
    "colab_type": "text",
    "id": "view-in-github"
   },
   "source": [
    "<a href=\"https://colab.research.google.com/github/ProfAI/py4ai/blob/master/3%20-%20Le%20Collezioni%20di%20Dati/collections_exercises.ipynb\" target=\"_parent\"><img src=\"https://colab.research.google.com/assets/colab-badge.svg\" alt=\"Open In Colab\"/></a>"
   ]
  },
  {
   "cell_type": "markdown",
   "metadata": {
    "colab_type": "text",
    "id": "YGbAWvI8o3ob"
   },
   "source": [
    "# Esercizi con le Collezioni"
   ]
  },
  {
   "cell_type": "markdown",
   "metadata": {},
   "source": [
    "## 1. Pagelle scolastiche\n",
    "Creiamo una struttura dati in grado di contenere i record di diversi studenti. La struttura sarà composta da un dizionario, con come chiave il nome dello studente e come valore una lista. La lista deve contenere delle tuple e ogni tupla deve avere alla prima posizione in nome della materia, alla seconda il voto e alla terza le ore di assenza. \n",
    "1. Popola la struttura dati con le seguenti informazioni:\n",
    "\n",
    "<table>\n",
    "    <tr><td>Studente</td><td>Matematica</td><td>Italiano</td><td>Inglese</td><td>Storia</td><td>Geografia</td></tr>\n",
    "    <tr><td>Giuseppe Gullo</td><td>VOTO: 9, ASSENZE: 0</td><td>VOTO: 7, ASSENZE: 3</td><td>VOTO: 7.5, ASSENZE: 4</td><td>VOTO: 7.5, ASSENZE: 4</td><td>VOTO: 5, ASSENZE: 7</td></tr>\n",
    "    <tr><td>Antonio Barbera</td><td>VOTO: 8, ASSENZE: 1</td><td>VOTO: 6, ASSENZE: 1</td><td>VOTO: 9.5, ASSENZE: 0</td><td>VOTO: 8, ASSENZE: 2</td><td>VOTO: 8, ASSENZE: 1</td></tr>\n",
    "    <tr><td>Nicola Spina</td><td>VOTO: 7.5, ASSENZE: 2</td><td>VOTO: 6, ASSENZE: 2</td><td>VOTO: 4, ASSENZE: 3</td><td>VOTO: 8.5, ASSENZE: 2</td><td>VOTO: 8, ASSENZE: 2</td></tr>\n",
    "\n",
    "2. Aggiungi alla struttura dati la pagella di un nuovo studente chiamato Albert Einstein, con 10 in tutte le materie e nessu na ora di assenza.\n",
    "3. Aggiungi Fisica a tutte le pagelle con le seguenti votazioni/assenze: Giuseppe Gullo 9.5/0, Antonino Barbera 8/1, Nicola Spina 8/3, Albert Einstein 10/0.\n",
    "4. Stampa la tupla con le informazioni sulla materia Matematica per Giuseppe Gullo\n",
    "5. Stampa la tupla con le informazioni sulla materia Inglese per Nicola Spina\n",
    "6. Stampa solo il voto di Antonio Barbera in Geografia.\n",
    "</table>"
   ]
  },
  {
   "cell_type": "code",
   "execution_count": 67,
   "metadata": {},
   "outputs": [
    {
     "name": "stdout",
     "output_type": "stream",
     "text": [
      "{'Giuseppe Gullo': [('Matematica', 9, 0), ('Italiano', 8, 1), ('Inglese', 7.5, 4), ('Storia', 7.5, 4), ('Geografia', 5, 7)], 'Antonio Barbera': [('Matematica', 8, 1), ('Italiano', 6, 1), ('Inglese', 9.5, 0), ('Storia', 8, 2), ('Geografia', 8, 1)], 'Nicola Spina': [('Matematica', 7.5, 2), ('Italiano', 6, 2), ('Inglese', 4, 3), ('Storia', 8.5, 2), ('Geografia', 8, 2)], 'Albert Einstein': [('Matematica', 10, 0), ('Italiano', 10, 0), ('Inglese', 10, 0), ('Storia', 10, 0), ('Geografia', 10, 0)]}\n"
     ]
    }
   ],
   "source": [
    "\n",
    "record = {'Giuseppe Gullo': [('Matematica',9,0),('Italiano',8,1),('Inglese',7.5,4),('Storia',7.5,4),('Geografia',5,7)],\n",
    "          'Antonio Barbera': [('Matematica',8,1),('Italiano',6,1),('Inglese',9.5,0),('Storia',8,2),('Geografia',8,1)],\n",
    "          'Nicola Spina': [('Matematica',7.5,2),('Italiano',6,2),('Inglese',4,3),('Storia',8.5,2),('Geografia',8,2)]\n",
    "          }\n",
    "#2)\n",
    "record['Albert Einstein'] = [('Matematica',10,0),('Italiano',10,0),('Inglese',10,0),('Storia',10,0),('Geografia',10,0)]\n",
    "print(record)"
   ]
  },
  {
   "cell_type": "code",
   "execution_count": 56,
   "metadata": {},
   "outputs": [
    {
     "name": "stdout",
     "output_type": "stream",
     "text": [
      "{'Giuseppe Gullo': [('Matematica', 9, 0), ('Italiano', 8, 1), ('Inglese', 7.5, 4), ('Storia', 7.5, 4), ('Geografia', 5, 7), ('Fisica', 9.5, 0)], 'Antonio Barbera': [('Matematica', 8, 1), ('Italiano', 6, 1), ('Inglese', 9.5, 0), ('Storia', 8, 2), ('Geografia', 8, 1), ('Fisica', 8, 1)], 'Nicola Spina': [('Matematica', 7.5, 2), ('Italiano', 6, 2), ('Inglese', 4, 3), ('Storia', 8.5, 2), ('Geografia', 8, 2), ('Fisica', 8, 3)], 'Albert Einstein': [('Matematica', 10, 0), ('Italiano', 10, 0), ('Inglese', 10, 0), ('Storia', 10, 0), ('Geografia', 10, 0), ('Fisica', 10, 0)]}\n"
     ]
    }
   ],
   "source": [
    "#3)\n",
    "voti = [9.5,8,8,10]\n",
    "assenze = [0,1,3,0]\n",
    "a = 0\n",
    "for x in (record.keys()):\n",
    "    record[x].append(('Fisica',voti[a],assenze[a]))\n",
    "    a+=1\n",
    "print(record)"
   ]
  },
  {
   "cell_type": "code",
   "execution_count": 65,
   "metadata": {},
   "outputs": [
    {
     "name": "stdout",
     "output_type": "stream",
     "text": [
      "('Matematica', 9, 0)\n",
      "('Inglese', 4, 3)\n",
      "8\n"
     ]
    }
   ],
   "source": [
    "#4,5,6)\n",
    "print(record['Giuseppe Gullo'][0])\n",
    "print(record['Nicola Spina'][2])\n",
    "print(record['Antonio Barbera'][-2][1])"
   ]
  }
 ],
 "metadata": {
  "colab": {
   "include_colab_link": true,
   "name": "collections_exercises.ipynb",
   "provenance": []
  },
  "kernelspec": {
   "display_name": "Python 3",
   "language": "python",
   "name": "python3"
  },
  "language_info": {
   "codemirror_mode": {
    "name": "ipython",
    "version": 3
   },
   "file_extension": ".py",
   "mimetype": "text/x-python",
   "name": "python",
   "nbconvert_exporter": "python",
   "pygments_lexer": "ipython3",
   "version": "3.10.9"
  }
 },
 "nbformat": 4,
 "nbformat_minor": 1
}
