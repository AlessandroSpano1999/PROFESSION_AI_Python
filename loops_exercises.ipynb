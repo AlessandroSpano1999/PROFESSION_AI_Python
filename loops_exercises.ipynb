{
  "cells": [
    {
      "cell_type": "markdown",
      "metadata": {
        "colab_type": "text",
        "id": "view-in-github"
      },
      "source": [
        "<a href=\"https://colab.research.google.com/github/ProfAI/py4ai/blob/master/4%20-%20Le%20Istruzioni%20Condizionali/loops_exercises.ipynb\" target=\"_parent\"><img src=\"https://colab.research.google.com/assets/colab-badge.svg\" alt=\"Open In Colab\"/></a>"
      ]
    },
    {
      "cell_type": "markdown",
      "metadata": {
        "colab_type": "text",
        "id": "87UN_ZnodhwZ"
      },
      "source": [
        "# Esercizi con i Cicli"
      ]
    },
    {
      "cell_type": "markdown",
      "metadata": {
        "colab_type": "text",
        "id": "jnX-HZnzdlaQ"
      },
      "source": [
        "## 1. Potenze [[Esercizio su HackerRank](https://www.hackerrank.com/challenges/python-loops/problem)]\n",
        "\n",
        "Leggi un intero *N* compreso tra 1 e 20 in input. Per tutti gli interi non negativi *i*<N stampa i^2."
      ]
    },
    {
      "cell_type": "code",
      "execution_count": 22,
      "metadata": {},
      "outputs": [
        {
          "name": "stdout",
          "output_type": "stream",
          "text": [
            "0^2 =  0\n",
            "1^2 =  1\n",
            "2^2 =  4\n"
          ]
        }
      ],
      "source": [
        "number = 0\n",
        "while number not in range(1,21):\n",
        "    number = int(input('Seleziona un numero intero da 1 a 20: '))\n",
        "    if number not in range(1,20,1):\n",
        "     print('Il numero digitato è errato')\n",
        "i = 0\n",
        "while i<number :\n",
        "    print(f'{i}^2 =  {i**2}')\n",
        "    i+=1"
      ]
    },
    {
      "cell_type": "markdown",
      "metadata": {
        "colab_type": "text",
        "id": "hYdC3tICopao"
      },
      "source": [
        "## 2. Secondo Arrivato [[Esercizio su HackerRank](https://www.hackerrank.com/challenges/find-second-maximum-number-in-a-list/problem)]\n",
        "Ricevi in input una lista con i punteggi dei partecipanti alla Giornata dello Sport Universitaria, trova il punteggio del secondo classificato.\n",
        "Ricevi in input una lista con i punteggi dei partecipanti alla Giornata dello Sport Universitaria, trova il punteggio del secondo classificato.\n",
        "\n",
        "ESEMPIO DI INPUT\n",
        "2 3 6 6 5\n",
        "\n",
        "ESEMPIO DI OUTPUT\n",
        "5\n"
      ]
    },
    {
      "cell_type": "code",
      "execution_count": 22,
      "metadata": {
        "colab": {
          "base_uri": "https://localhost:8080/",
          "height": 53
        },
        "colab_type": "code",
        "id": "zejk__gDo9Hh",
        "outputId": "1c941291-30b8-45aa-a81c-4d6c5eeab9e4"
      },
      "outputs": [
        {
          "name": "stdout",
          "output_type": "stream",
          "text": [
            "Il secondo numero piu piccolo è 5\n"
          ]
        }
      ],
      "source": [
        "punteggi = (\"2 3 6 6 5\")\n",
        "punteggi = punteggi.split()\n",
        "punteggi = list(map(int,punteggi))\n",
        "punteggi.sort(reverse = True)\n",
        "for x in punteggi:\n",
        "    if x<max(punteggi):\n",
        "        print('Il secondo numero piu piccolo è '+str(x))\n",
        "        break\n",
        "    else:\n",
        "        continue\n",
        "        \n"
      ]
    },
    {
      "cell_type": "markdown",
      "metadata": {
        "colab_type": "text",
        "id": "Ux9hbKPKiDq0"
      },
      "source": [
        "## 3. Registro [[Esercizio su HackerRank](https://www.hackerrank.com/challenges/finding-the-percentage/problem)]\n",
        "Hai a disposizione un record di *N* studenti. Ogni record contiene il nome dello studente e il suo voto in Matematica, Fisica e Chimica. I voti possono essere numeri con la virgola. Un utente inserisci un intero *N* seguito da il nome e i voti di N studenti. Il programma deve salvare i record in un dizionario. Allla fine l'utente inserirà il nome di uno studente, il programma dovrà dare il output la media dei voti di tale studiente arrotandata a due cifre dopo la virgola.\n",
        "<br><br>\n",
        "**ESEMPIO DI INPUT**\n",
        "<br>\n",
        "3<br>\n",
        "Krishna 67 68 69<br>\n",
        "Arjun 70 98 63<br>\n",
        "Malika 52 56 60<br>\n",
        "Malika<br>\n",
        "<br><br>\n",
        "**ESEMPIO DI OUTPUT**\n",
        "<br>\n",
        "56.00\n"
      ]
    },
    {
      "cell_type": "code",
      "execution_count": 45,
      "metadata": {
        "colab": {
          "base_uri": "https://localhost:8080/",
          "height": 89
        },
        "colab_type": "code",
        "id": "woOSWzz-jpGF",
        "outputId": "4d81fd12-f5d2-48f4-a10f-8b75b316bdc1"
      },
      "outputs": [
        {
          "name": "stdout",
          "output_type": "stream",
          "text": [
            "{'ale': [['Matematica', 50.0], ['Fisica', 50.0], ['Chimica', 49.0]]}\n",
            "La media di ale è 49.67\n"
          ]
        }
      ],
      "source": [
        "studenti = int(input('Seleziona il numero degli studenti :'))\n",
        "registro = {}\n",
        "materie = ['Matematica','Fisica','Chimica']\n",
        "for x in range(1,studenti+1):\n",
        "    nome_studente = input('Inserire il nome :')\n",
        "    registro[nome_studente] = [['Matematica',float(input('Matematica'))], ['Fisica',float(input('Fisica'))], ['Chimica',float(input('Chimica'))]]\n",
        "print(registro)\n",
        "nome_studente = input('Inserire il nome :')\n",
        "media = []\n",
        "for x in range(len(registro[nome_studente])):\n",
        "    media.append(registro[nome_studente][x][1])\n",
        "media = sum(media)/len(materie)\n",
        "print(f'La media di {nome_studente} è {round(media,2)}')\n",
        "\n"
      ]
    },
    {
      "cell_type": "markdown",
      "metadata": {
        "colab_type": "text",
        "id": "tfMPjZUMer-G"
      },
      "source": [
        "## 4. Palindromi\n",
        "Leggi una stringa in input all'interno di un loop. Se la stringa è uguale a \"stop\" interrompi il programma, altrimenti verifica se la stringa è un palindromo, in caso positivo stampa \"PAROLA è un palidromo\" inserendo la parola inserita in input al posto di PAROLA, altrimenti stampa \" PAROLA non è un palindromo\".\n",
        "<br><br>\n",
        "**N.B** Un palindromo è una parola che può essere letta allo stesso modo in entrambi i sensi (es. radar, osso, aerea)."
      ]
    },
    {
      "cell_type": "code",
      "execution_count": 52,
      "metadata": {
        "colab": {
          "base_uri": "https://localhost:8080/",
          "height": 179
        },
        "colab_type": "code",
        "id": "RuMD1oGIeYDA",
        "outputId": "e6342d82-95ae-4515-e58a-4c48919e6c95"
      },
      "outputs": [
        {
          "name": "stdout",
          "output_type": "stream",
          "text": [
            "1\n",
            "1 è un palindromo\n"
          ]
        }
      ],
      "source": [
        "x = 0\n",
        "while x==0:\n",
        "    parola = input()\n",
        "    print(parola)\n",
        "    if parola[::-1]==parola:\n",
        "        print(f'{parola} è un palindromo')\n",
        "        x+=1\n",
        "    else:\n",
        "       print(f'{parola} non è un palindromo') "
      ]
    },
    {
      "cell_type": "markdown",
      "metadata": {
        "colab_type": "text",
        "id": "x_XepwbmepMV"
      },
      "source": []
    }
  ],
  "metadata": {
    "colab": {
      "include_colab_link": true,
      "name": "loops_exercises.ipynb",
      "provenance": []
    },
    "kernelspec": {
      "display_name": "Python 3",
      "name": "python3"
    },
    "language_info": {
      "codemirror_mode": {
        "name": "ipython",
        "version": 3
      },
      "file_extension": ".py",
      "mimetype": "text/x-python",
      "name": "python",
      "nbconvert_exporter": "python",
      "pygments_lexer": "ipython3",
      "version": "3.10.9"
    }
  },
  "nbformat": 4,
  "nbformat_minor": 0
}
